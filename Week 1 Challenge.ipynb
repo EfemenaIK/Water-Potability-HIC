{
 "cells": [
  {
   "cell_type": "markdown",
   "id": "2c957b6a",
   "metadata": {},
   "source": [
    "# Week 1 Challenge\n",
    "\n",
    "* Data Types (Integers, Float, Strings, Dictionary, Booleans, List, Tuples & Set)\n",
    "* If and Elif Statement\n",
    "* For and While Loops\n",
    "* Functions\n",
    "\n",
    "**Solution shoud be submitted in this Notebook**\n"
   ]
  },
  {
   "cell_type": "markdown",
   "id": "e675974d",
   "metadata": {},
   "source": [
    "### Section 1 - Number (Integers and Float)"
   ]
  },
  {
   "cell_type": "code",
   "execution_count": 1,
   "id": "daddc849",
   "metadata": {},
   "outputs": [],
   "source": [
    "# Create a code that calculates sales tax\n",
    "# Total = #The amount you spent\n",
    "# Tax_percent = #The tax percentage e.g 10%, 20%, 30%, etc\n",
    "# Tax_amt = #The tax percentage multiplied by the total amount\n",
    "# Grand_total = #The total amount less the Tax Amount\n",
    "\n",
    "#--------------- Write your code below----------------------------#\n",
    "\n"
   ]
  },
  {
   "cell_type": "code",
   "execution_count": 2,
   "id": "65d5aff2",
   "metadata": {},
   "outputs": [],
   "source": [
    "# Print(The test score program)\n",
    "# Print(--------------------------)\n",
    "# Print(Enter 3 test score)\n",
    "# Print(-----------------------------------)\n",
    "# Total_score = 0\n",
    "# Total_score += Get input from user\n",
    "# Total_score += Get input from user\n",
    "# Total_score += Get input from user\n",
    "# Average_score = Get the Average score\n",
    "# Print(-----------------------------------)\n",
    "# Using print formatting - print Total Score and Average Score\n",
    "# Print()\n",
    "# Print(Bye)\n",
    "\n",
    "#--------------- Write your code below----------------------------#\n"
   ]
  },
  {
   "cell_type": "markdown",
   "id": "a8cff4e8",
   "metadata": {},
   "source": [
    "### Section 2 - Strings"
   ]
  },
  {
   "cell_type": "code",
   "execution_count": 3,
   "id": "9b6823db",
   "metadata": {},
   "outputs": [],
   "source": [
    "# Assign The quick brown fox jumps over the lazy dog to a Variable\n",
    "# Slice the string to obtain quick brown fox\n",
    "# Slice the string to obtain the lazy dog\n",
    "# Use negative Indexing to obtain lazy dog\n",
    "# Obtain the Length of the string\n",
    "\n",
    "#--------------- Write your code below----------------------------#\n"
   ]
  },
  {
   "cell_type": "code",
   "execution_count": 4,
   "id": "775ce2b7",
   "metadata": {},
   "outputs": [],
   "source": [
    "# Get input from user and Concatenate the code below\n",
    "# Name = What is your name?\n",
    "# Age = How old are you?\n",
    "# State = What is your state of origin?\n",
    "# Profession = What is your profession?\n",
    "# Bio = print My name is _ and i'm _ years old. I am from _ state and i am _ by profession \n",
    "\n",
    "#--------------- Write your code below----------------------------#"
   ]
  },
  {
   "cell_type": "markdown",
   "id": "3e3cb1d1",
   "metadata": {},
   "source": [
    "### Section 3 - Lists"
   ]
  },
  {
   "cell_type": "code",
   "execution_count": 5,
   "id": "ff3c1b3f",
   "metadata": {},
   "outputs": [],
   "source": [
    "# Create a list of states in Nigeria\n",
    "# Abia\n",
    "# Adamawa\n",
    "# Akwa Ibom\n",
    "# Anambra\n",
    "# Bayelsa\n",
    "# Benue\n",
    "# Borno\n",
    "# Cross River\n",
    "# Nasarawa\n",
    "# Niger\n",
    "# Ogun\n",
    "# Ondo\n",
    "# Osun\n",
    "# Oyo\n",
    "# Plateau\n",
    "# Rivers\n",
    "# Sokoto\n",
    "# Taraba\n",
    "# Yobe\n",
    "# Zamfara\n",
    "\n",
    "#--------------- Write your code below----------------------------#"
   ]
  },
  {
   "cell_type": "code",
   "execution_count": 6,
   "id": "47619700",
   "metadata": {},
   "outputs": [],
   "source": [
    "# Q2: Index and retrieve the first 10\n",
    "# Q3: Index and retrieve Cross River, Nasarawa, Niger, Ogun, Ondo, Osun, Oyo, Plateau\n",
    "# Q4: Use Negative indexing to retrieve the last 5 states\n",
    "\n",
    "#--------------- Write your code below----------------------------#"
   ]
  },
  {
   "cell_type": "code",
   "execution_count": null,
   "id": "e30b4167",
   "metadata": {},
   "outputs": [],
   "source": [
    "#Q5: Add 4 new states\n",
    "\n",
    "#--------------- Write your code below----------------------------#"
   ]
  },
  {
   "cell_type": "code",
   "execution_count": null,
   "id": "9a36b6c6",
   "metadata": {},
   "outputs": [],
   "source": [
    "#Q6: Confirm the length of the list\n",
    "\n",
    "#--------------- Write your code below----------------------------#"
   ]
  },
  {
   "cell_type": "code",
   "execution_count": null,
   "id": "02659c4a",
   "metadata": {},
   "outputs": [],
   "source": [
    "#Q7. Remove Bauchi, Oyo and Yobe\n",
    "\n",
    "#--------------- Write your code below----------------------------#"
   ]
  },
  {
   "cell_type": "markdown",
   "id": "59f96cbe",
   "metadata": {},
   "source": [
    "### Section 4 - Dictionaries"
   ]
  },
  {
   "cell_type": "code",
   "execution_count": null,
   "id": "8d670878",
   "metadata": {},
   "outputs": [],
   "source": [
    "# Q1: Create a dictionary of states and governor in Nigeria\n",
    "\n",
    "# Abia State: nil\n",
    "# Anambra State: Willie Obiano\n",
    "# Benue State: Samuel Ortom\n",
    "# Delta State: Ifeanyi Okowa\n",
    "# Ekiti State: nil\n",
    "# Lagos State: Babajide Sanwo-Olu\n",
    "# Plateau State: Simon Lalong\n",
    "# Taraba State: Arch. Darius Ishaku\n",
    "# Kogi State: Yahaya Bello\n",
    "# Anambra State: Willie Obiano\n",
    "\n",
    "#--------------- Write your code below----------------------------#"
   ]
  },
  {
   "cell_type": "code",
   "execution_count": null,
   "id": "4b87276a",
   "metadata": {},
   "outputs": [],
   "source": [
    "# Q2: update Abia and Ekiti (Okezie Ikpeazu, Kayode Fayemi)\n",
    "\n",
    "#--------------- Write your code below----------------------------#"
   ]
  },
  {
   "cell_type": "code",
   "execution_count": null,
   "id": "dbbb8e21",
   "metadata": {},
   "outputs": [],
   "source": [
    "# Q3: Add\n",
    "# Cross River State: Benedict Ayade\n",
    "# Ebonyi State: Dave Umahi\n",
    "# Sokoto State: Aminu Waziri Tambuwal\n",
    "\n",
    "#--------------- Write your code below----------------------------#"
   ]
  },
  {
   "cell_type": "code",
   "execution_count": null,
   "id": "9aff0c93",
   "metadata": {},
   "outputs": [],
   "source": [
    "# Q4: Remove Ondo, Sokoto, taraba and Kogi from the dictionary\n",
    "\n",
    "#--------------- Write your code below----------------------------#"
   ]
  },
  {
   "cell_type": "markdown",
   "id": "dda1e6fe",
   "metadata": {},
   "source": [
    "### Section 5 - IF, Elif and Else"
   ]
  },
  {
   "cell_type": "code",
   "execution_count": null,
   "id": "39f59684",
   "metadata": {},
   "outputs": [],
   "source": [
    "# Write an If function that will get input from the user for their age and classify the age as:\n",
    "\n",
    "# age = input from the user\n",
    "\n",
    "# Toddler (0 – 12)\n",
    "# Teenage (13 - 19)\n",
    "# Youth (20 – 35)\n",
    "# Adult (36 – 45)\n",
    "# Elder (46 and above)\n",
    "# Print (your age is {} and you are a {})\n",
    "\n",
    "#--------------- Write your code below----------------------------#"
   ]
  },
  {
   "cell_type": "code",
   "execution_count": null,
   "id": "905bb277",
   "metadata": {},
   "outputs": [],
   "source": [
    "# Write a programme that will: \n",
    "\n",
    "# Investment Amount = input()\n",
    "# Customer type = input(corporate, retail, walk-in)\n",
    "# payment = input(cash, card)\n",
    "\n",
    "# Interest\n",
    "# Customer type (corporate) and Payment (Cash)\n",
    "# <500,000 = 10%\n",
    "# >=500,000 = 15%\n",
    "# >=1,000,000 = 20%\n",
    "# >=2,000,000 = 25%\n",
    "# Customer type (corporate) and Payment (card)\n",
    "# <500,000 = 10.5%\n",
    "# >=500,000 = 15.5%\n",
    "# >=1,000,000 = 20.5%\n",
    "# >=2,000,000 = 25.5%\n",
    "\n",
    "# Customer type (retail) and Payment (Cash)\n",
    "# Retail\n",
    "# <500,000 = 5%\n",
    "# >=500,000 = 10%\n",
    "# >=1,000,000 = 15%\n",
    "# >=2,000,000 = 20%\n",
    "# Customer type (retail) and Payment (card)\n",
    "# <500,000 = 5.5%\n",
    "# >=500,000 = 10.5%\n",
    "# >=1,000,000 = 15.5%\n",
    "# >=2,000,000 = 20.5%\n",
    "\n",
    "# Customer type (walk-in) and Payment (Cash)\n",
    "# <500,000 = 2%\n",
    "# >=500,000 = 8%\n",
    "# >=1,000,000 = 10%\n",
    "# >=2,000,000 = 15%\n",
    "# Customer type (Walk-in) and Payment (card)\n",
    "# <500,000 = 2.5%\n",
    "# >=500,000 = 8.5%\n",
    "# >=1,000,000 = 10.5%\n",
    "# >=2,000,000 = 15.5%\n",
    "\n",
    "# else Customer must be corporate, retail, walk-in\n",
    "# Print all the necessary details\n",
    "\n",
    "#--------------- Write your code below----------------------------#"
   ]
  },
  {
   "cell_type": "markdown",
   "id": "46a8d24e",
   "metadata": {},
   "source": [
    "### Section 6 - For Loops"
   ]
  },
  {
   "cell_type": "code",
   "execution_count": null,
   "id": "7dbf256e",
   "metadata": {},
   "outputs": [],
   "source": [
    "# Write a programme that will: (using a for loop)\n",
    "\n",
    "# Get input about the investment amount\n",
    "# Get input of number of years\n",
    "# Calculate yearly interest (<=5 years:5%, <=10yrs:10%, 11>:15%)\n",
    "# Calculate investment amount\n",
    "# Display all the necessary details\n",
    "\n",
    "#--------------- Write your code below----------------------------#"
   ]
  },
  {
   "cell_type": "code",
   "execution_count": null,
   "id": "4ab0442e",
   "metadata": {},
   "outputs": [],
   "source": [
    "# There are errors in the code - Correct all\n",
    "''' \n",
    "period = rangers(1,4)\n",
    "score = 0\n",
    "\n",
    "print(To calculate your total score)\n",
    "print()\n",
    "for i in periods:\n",
    "    records = int(input(r\"what is your {i} score: \"))\n",
    "    score += recorder\n",
    "print()\n",
    "print(r\"Your final score is {score}\")\n",
    "'''\n",
    "#--------------- Write your code below----------------------------#"
   ]
  },
  {
   "cell_type": "markdown",
   "id": "231c4b88",
   "metadata": {},
   "source": [
    "### Section 7 - While Loops"
   ]
  },
  {
   "cell_type": "code",
   "execution_count": null,
   "id": "09fb29a5",
   "metadata": {},
   "outputs": [],
   "source": [
    "# Write a programme that will: (using a while loop)\n",
    "\n",
    "# Answer = input(yes/no)\n",
    "\n",
    "# While answer = yes\n",
    "# Print(calculate your average score)\n",
    "# Get score for Mathematics, English, Geography, Accounting and Physics from the user.\n",
    "# Calculate the average score of all scores\n",
    "# Write an if function that will grade the average score into (A, B, C, D, E, F)\n",
    "# Print (Your average score is {})\n",
    "# Print (Your grade is {})\n",
    "# Answer = input(do you want to calculate your average score)\n",
    "\n",
    "#--------------- Write your code below----------------------------#"
   ]
  },
  {
   "cell_type": "code",
   "execution_count": null,
   "id": "f6ca2d0c",
   "metadata": {},
   "outputs": [],
   "source": [
    "# There are errors in the code - Correct all\n",
    "'''\n",
    "score = 0\n",
    "\n",
    "print(To calculate your total score)\n",
    "print(r\"-----------------------\")\n",
    "for i in ranges(0,3):\n",
    "        records = int(inputs(f\"what is your score: ))\n",
    "        if records >= 0 and recorders <=100:\n",
    "            score += recards\n",
    "        else:\n",
    "            print(s\"Your score should be between 0 - 100\")\n",
    "   \n",
    "print(----------)\n",
    "print(f\"Your final score is {scorecard}\")\n",
    "'''\n",
    "\n",
    "#--------------- Write your code below----------------------------#"
   ]
  },
  {
   "cell_type": "markdown",
   "id": "9232419f",
   "metadata": {},
   "source": [
    "### Section 7 - Function"
   ]
  },
  {
   "cell_type": "code",
   "execution_count": null,
   "id": "666926e8",
   "metadata": {},
   "outputs": [],
   "source": [
    "# Convert to a function\n",
    "\n",
    "# Write a programme that will: (using a for loop)\n",
    "\n",
    "# Get input about the investment amount\n",
    "# Get input of number of years\n",
    "# Calculate yearly interest (<=5 years:5%, <=10yrs:10%, 11>:15%)\n",
    "# Calculate investment amount\n",
    "# Display all the necessary details\n",
    "\n",
    "#--------------- Write your code below----------------------------#"
   ]
  },
  {
   "cell_type": "code",
   "execution_count": null,
   "id": "142f43d8",
   "metadata": {},
   "outputs": [],
   "source": [
    "# Convert to a function\n",
    "\n",
    "# Write a programme that will: (using a while loop)\n",
    "\n",
    "# Answer = input(yes/no)\n",
    "\n",
    "# While answer = yes\n",
    "# Print(calculate your average score)\n",
    "# Get score for Mathematics, English, Geography, Accounting and Physics from the user.\n",
    "# Calculate the average score of all scores\n",
    "# Write an if function that will grade the average score into (A, B, C, D, E, F)\n",
    "# Print (Your average score is {})\n",
    "# Print (Your grade is {})\n",
    "# Answer = input(do you want to calculate your average score)\n",
    "\n",
    "#--------------- Write your code below----------------------------#"
   ]
  }
 ],
 "metadata": {
  "kernelspec": {
   "display_name": "Python 3 (ipykernel)",
   "language": "python",
   "name": "python3"
  },
  "language_info": {
   "codemirror_mode": {
    "name": "ipython",
    "version": 3
   },
   "file_extension": ".py",
   "mimetype": "text/x-python",
   "name": "python",
   "nbconvert_exporter": "python",
   "pygments_lexer": "ipython3",
   "version": "3.9.7"
  }
 },
 "nbformat": 4,
 "nbformat_minor": 5
}
